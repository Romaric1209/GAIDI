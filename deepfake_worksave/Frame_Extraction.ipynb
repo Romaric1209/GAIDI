{
 "cells": [
  {
   "cell_type": "markdown",
   "metadata": {
    "id": "vJs_YsscghRu"
   },
   "source": [
    "Great question — and you're right to think deeply about this. It **depends on your objective**. Here's a breakdown to help you decide between **binary classification** (real vs fake) and **multiclass classification** (real, Deepfakes, Face2Face, FaceSwap, NeuralTextures, etc.).\n",
    "\n",
    "---\n",
    "\n",
    "### ✅ **Binary Classification (Real vs Fake)**\n",
    "\n",
    "**Pros:**\n",
    "\n",
    "* **Simpler model** and easier to train.\n",
    "* **More data per class** (especially if dataset is imbalanced across manipulation methods).\n",
    "* Works well if your **goal is just detection** of whether a video is fake.\n",
    "\n",
    "**Cons:**\n",
    "\n",
    "* You **lose information** about *how* it was faked.\n",
    "* May be **less interpretable** in forensic or research contexts.\n",
    "\n",
    "**Recommended if:**\n",
    "\n",
    "* You’re focused on building a **robust detector**, regardless of the manipulation method.\n",
    "* You have limited or unbalanced data per fake class.\n",
    "\n",
    "---\n",
    "\n",
    "### ✅ **Multiclass Classification (Real, Deepfakes, FaceSwap, etc.)**\n",
    "\n",
    "**Pros:**\n",
    "\n",
    "* Provides **more granular insights** about the type of manipulation.\n",
    "* Useful in forensic, academic, or investigative settings.\n",
    "* A softmax output gives **probability distribution**, which can help flag ambiguous or unknown manipulations (e.g., 0.3 Deepfake, 0.3 FaceSwap, 0.4 other).\n",
    "\n",
    "**Cons:**\n",
    "\n",
    "* Needs **balanced and cleanly labeled data** across all manipulation types.\n",
    "* If a fake video was created using a **method not in your training set**, the model may misclassify it with high confidence.\n",
    "* Models may **confuse manipulation types** if they have similar artifacts.\n",
    "\n",
    "**Recommended if:**\n",
    "\n",
    "* You’re working in a **forensic context** or need to **analyze manipulation methods**.\n",
    "* You have a **well-balanced dataset** across fake types (or can artificially balance it).\n",
    "* You plan to extend the system to **open-set recognition** or **anomaly detection** later.\n",
    "\n",
    "---\n",
    "\n",
    "### 🚧 Hybrid Option: Binary + Softmax Confidence\n",
    "\n",
    "You could:\n",
    "\n",
    "1. Train a **binary classifier** (real vs fake).\n",
    "2. Train a **secondary classifier** to **predict manipulation type**, *only on the fakes*.\n",
    "3. Optionally, expose softmax probabilities as part of **confidence scoring** for human-in-the-loop review.\n",
    "\n",
    "This allows:\n",
    "\n",
    "* High accuracy on real vs fake.\n",
    "* Flexibility in analysis (showing which type it's closest to).\n",
    "* Safer handling of *unknown fakes*.\n",
    "\n",
    "---\n",
    "\n",
    "### 🔍 Real-World Considerations\n",
    "\n",
    "* Many real-world videos may be manipulated in **unknown or novel ways**.\n",
    "* A softmax model trained on 4 fake classes might fail when presented with a **fifth** unseen type.\n",
    "* Consider using **OOD (out-of-distribution) detection** techniques or **embedding-based methods** later if you want to generalize more robustly.\n",
    "\n",
    "---\n",
    "\n",
    "### 🧠 Summary\n",
    "\n",
    "| Objective                              | Recommendation                            |\n",
    "| -------------------------------------- | ----------------------------------------- |\n",
    "| Just detect fake videos                | **Binary classification** ✅               |\n",
    "| Analyze or visualize manipulation type | **Multiclass classification** or hybrid ✅ |\n",
    "| Expect novel/unseen manipulations      | Binary + OOD detection or hybrid ✅        |\n",
    "| Dataset is small or unbalanced         | Start with binary ✅                       |\n",
    "\n",
    "Would you like help designing a hybrid setup or deciding on loss functions or model architectures for either approach?\n"
   ]
  },
  {
   "cell_type": "code",
   "execution_count": 1,
   "metadata": {
    "executionInfo": {
     "elapsed": 1413,
     "status": "ok",
     "timestamp": 1752912836940,
     "user": {
      "displayName": "Romaric Berger",
      "userId": "00619562086203818771"
     },
     "user_tz": -480
    },
    "id": "IQNNoBIKIlzS"
   },
   "outputs": [],
   "source": [
    "import pandas as pd\n",
    "import numpy as np\n",
    "import matplotlib.pyplot as plt\n",
    "import seaborn as sns"
   ]
  },
  {
   "cell_type": "code",
   "execution_count": 2,
   "metadata": {
    "colab": {
     "base_uri": "https://localhost:8080/"
    },
    "collapsed": true,
    "executionInfo": {
     "elapsed": 21116,
     "status": "ok",
     "timestamp": 1752912733101,
     "user": {
      "displayName": "Romaric Berger",
      "userId": "00619562086203818771"
     },
     "user_tz": -480
    },
    "id": "gMxe_PI8AcRA",
    "outputId": "08948bf5-065d-4f23-a14d-d34a9d2147d3"
   },
   "outputs": [
    {
     "name": "stdout",
     "output_type": "stream",
     "text": [
      "Mounted at /content/drive\n"
     ]
    }
   ],
   "source": [
    "from google.colab import drive\n",
    "drive.mount('/content/drive')"
   ]
  },
  {
   "cell_type": "code",
   "execution_count": 3,
   "metadata": {
    "colab": {
     "base_uri": "https://localhost:8080/"
    },
    "executionInfo": {
     "elapsed": 1629,
     "status": "ok",
     "timestamp": 1752912736930,
     "user": {
      "displayName": "Romaric Berger",
      "userId": "00619562086203818771"
     },
     "user_tz": -480
    },
    "id": "obQk2xGVvinf",
    "outputId": "f1d7a42e-7cad-4180-8db7-40fe87b682f4"
   },
   "outputs": [
    {
     "name": "stdout",
     "output_type": "stream",
     "text": [
      "dict_keys(['actors', 'DeepFakesDetection'])\n"
     ]
    }
   ],
   "source": [
    "import urllib.request, json\n",
    "\n",
    "url = \"http://kaldir.vc.in.tum.de/faceforensics/v3/misc/deepfake_detection_filenames.json\"\n",
    "with urllib.request.urlopen(url) as f:\n",
    "    detection_files = json.loads(f.read().decode())\n",
    "\n",
    "print(detection_files.keys())\n"
   ]
  },
  {
   "cell_type": "code",
   "execution_count": 3,
   "metadata": {
    "colab": {
     "base_uri": "https://localhost:8080/"
    },
    "executionInfo": {
     "elapsed": 548462,
     "status": "ok",
     "timestamp": 1752913399402,
     "user": {
      "displayName": "Romaric Berger",
      "userId": "00619562086203818771"
     },
     "user_tz": -480
    },
    "id": "rnHWbWE5BmIy",
    "outputId": "efb4c86c-3d79-4fc7-f05a-938939fdaf2c"
   },
   "outputs": [
    {
     "name": "stdout",
     "output_type": "stream",
     "text": [
      "Already downloaded: 1252\n",
      "\n",
      "🔻 Downloading 240 new videos...\n",
      "100% 240/240 [09:05<00:00,  2.27s/it]\n",
      "\n",
      "✅ Done: 240 new videos downloaded.\n"
     ]
    }
   ],
   "source": [
    "####### REMEMBER TO DELETE THE OLD VIDEOS BEFORE LOADING NEW ONES ###########\n",
    "####### REMEMBER TO DELETE THE OLD VIDEOS BEFORE LOADING NEW ONES ###########\n",
    "####### REMEMBER TO DELETE THE OLD VIDEOS BEFORE LOADING NEW ONES ###########\n",
    "####### REMEMBER TO DELETE THE OLD VIDEOS BEFORE LOADING NEW ONES ###########\n",
    "# !python /content/drive/MyDrive/Colab_Notebooks/GAIDI/Deepfake/faceforensic_downloader_colab.py\n",
    "####### REMEMBER TO DELETE THE OLD VIDEOS BEFORE LOADING NEW ONES ###########\n",
    "####### REMEMBER TO DELETE THE OLD VIDEOS BEFORE LOADING NEW ONES ###########\n",
    "####### REMEMBER TO DELETE THE OLD VIDEOS BEFORE LOADING NEW ONES ###########"
   ]
  },
  {
   "cell_type": "markdown",
   "metadata": {
    "id": "WzgjqvGOCXFG"
   },
   "source": [
    "#Module 1: Frame- based Detection\n",
    "##Pipeline Overview\n",
    "Extract Frames from video (e.g., every 1-2 frames per second).\n",
    "\n",
    "Preprocess: Resize, normalize, optionally crop faces.\n",
    "\n",
    "Model: CNN or ViT trained on real vs fake images.\n",
    "\n",
    "Aggregate predictions across frames → one score per video.\n",
    "##Tools & Libraries\n",
    "OpenCV or ffmpeg-python for frame extraction.\n",
    "\n",
    "PyTorch / TensorFlow for model training.\n",
    "\n",
    "Pretrained models: ResNet50, EfficientNet, or ViT."
   ]
  },
  {
   "cell_type": "code",
   "execution_count": 4,
   "metadata": {
    "colab": {
     "base_uri": "https://localhost:8080/"
    },
    "executionInfo": {
     "elapsed": 40,
     "status": "ok",
     "timestamp": 1752913399439,
     "user": {
      "displayName": "Romaric Berger",
      "userId": "00619562086203818771"
     },
     "user_tz": -480
    },
    "id": "Wf1L3pPLCWvc",
    "outputId": "a47c104c-c154-4851-da08-500ec1df594f"
   },
   "outputs": [
    {
     "name": "stdout",
     "output_type": "stream",
     "text": [
      "4.12.0\n"
     ]
    }
   ],
   "source": [
    "import os\n",
    "# !pip install opencv-python\n",
    "import cv2\n",
    "print(cv2.__version__)"
   ]
  },
  {
   "cell_type": "markdown",
   "metadata": {
    "id": "rC653op5UZl9"
   },
   "source": [
    "# Frames' extraction"
   ]
  },
  {
   "cell_type": "markdown",
   "metadata": {
    "id": "f-maODFcCJFu"
   },
   "source": [
    "## fix number of frames per videos\n",
    "Balanced dataset"
   ]
  },
  {
   "cell_type": "code",
   "execution_count": 5,
   "metadata": {
    "executionInfo": {
     "elapsed": 19,
     "status": "ok",
     "timestamp": 1752913399460,
     "user": {
      "displayName": "Romaric Berger",
      "userId": "00619562086203818771"
     },
     "user_tz": -480
    },
    "id": "0kQq5zmwB5Ct"
   },
   "outputs": [],
   "source": [
    "########### FOR FIX NUMBER OF FRAME PER VIDEOS #########\n",
    "# import cv2\n",
    "# import os\n",
    "# import numpy as np\n",
    "\n",
    "# deepf_path = '/content/drive/MyDrive/Colab_Notebooks/GAIDI/Deepfake/manipulated/DeepFakeDetection'\n",
    "# output_path = '/content/drive/MyDrive/Colab_Notebooks/GAIDI/Deepfake/data/fake'\n",
    "# frames_per_video = 10\n",
    "\n",
    "# os.makedirs(output_path, exist_ok=True)\n",
    "\n",
    "# for name in os.listdir(deepf_path):\n",
    "#     if not name.endswith('.mp4'):\n",
    "#         print(f\"Skipping {name}, not a video file\")\n",
    "#         continue\n",
    "\n",
    "#     video_file = os.path.join(deepf_path, name)\n",
    "#     cap = cv2.VideoCapture(video_file)\n",
    "\n",
    "#     if not cap.isOpened():\n",
    "#         print(f'❌ Error opening {name}')\n",
    "#         continue\n",
    "\n",
    "#     total_frames = int(cap.get(cv2.CAP_PROP_FRAME_COUNT))\n",
    "#     print(f'🎞️ {name}: total frames = {total_frames}')\n",
    "\n",
    "#     if total_frames < frames_per_video:\n",
    "#         print(f\"⚠️  {name} has fewer frames than requested ({frames_per_video})\")\n",
    "#         frame_indices = list(range(total_frames))  # take all\n",
    "#     else:\n",
    "#         frame_indices = np.linspace(0, total_frames - 1, frames_per_video, dtype=int)\n",
    "\n",
    "#     saved_count = 0\n",
    "#     for i, target_idx in enumerate(frame_indices):\n",
    "#         cap.set(cv2.CAP_PROP_POS_FRAMES, target_idx)\n",
    "#         ret, frame = cap.read()\n",
    "#         if ret:\n",
    "#             out_path = os.path.join(output_path, f\"{name}_{i:04d}.jpg\")\n",
    "#             cv2.imwrite(out_path, frame)\n",
    "#             saved_count += 1\n",
    "\n",
    "#     cap.release()\n",
    "#     print(f'✅ {saved_count} frames saved from {name} to {output_path}')\n"
   ]
  },
  {
   "cell_type": "markdown",
   "metadata": {
    "id": "wC7JchrEUh63"
   },
   "source": [
    "## ORIGINAL VIDEOS FRAME EXTRACTION"
   ]
  },
  {
   "cell_type": "code",
   "execution_count": null,
   "metadata": {
    "colab": {
     "base_uri": "https://localhost:8080/"
    },
    "collapsed": true,
    "executionInfo": {
     "elapsed": 882119,
     "status": "ok",
     "timestamp": 1752914281582,
     "user": {
      "displayName": "Romaric Berger",
      "userId": "00619562086203818771"
     },
     "user_tz": -480
    },
    "id": "yjXYrSLACWiA",
    "outputId": "3d06ce1f-f36f-41c1-a9d5-149a72ebd899"
   },
   "outputs": [
    {
     "name": "stdout",
     "output_type": "stream",
     "text": [
      "Video FPS: 25.0, capturing a frame every 8 frames\n",
      "Finish, 46 frames saved to /content/drive/MyDrive/Colab_Notebooks/GAIDI/Deepfake/data/real\n",
      "Video FPS: 25.0, capturing a frame every 8 frames\n",
      "Finish, 43 frames saved to /content/drive/MyDrive/Colab_Notebooks/GAIDI/Deepfake/data/real\n",
      "Video FPS: 30.0, capturing a frame every 10 frames\n",
      "Finish, 35 frames saved to /content/drive/MyDrive/Colab_Notebooks/GAIDI/Deepfake/data/real\n",
      "Video FPS: 30.0, capturing a frame every 10 frames\n",
      "Finish, 33 frames saved to /content/drive/MyDrive/Colab_Notebooks/GAIDI/Deepfake/data/real\n",
      "Video FPS: 25.0, capturing a frame every 8 frames\n",
      "Finish, 74 frames saved to /content/drive/MyDrive/Colab_Notebooks/GAIDI/Deepfake/data/real\n",
      "Video FPS: 25.0, capturing a frame every 8 frames\n",
      "Finish, 52 frames saved to /content/drive/MyDrive/Colab_Notebooks/GAIDI/Deepfake/data/real\n",
      "Video FPS: 25.0, capturing a frame every 8 frames\n",
      "Finish, 42 frames saved to /content/drive/MyDrive/Colab_Notebooks/GAIDI/Deepfake/data/real\n",
      "Video FPS: 25.0, capturing a frame every 8 frames\n",
      "Finish, 38 frames saved to /content/drive/MyDrive/Colab_Notebooks/GAIDI/Deepfake/data/real\n",
      "Video FPS: 25.0, capturing a frame every 8 frames\n",
      "Finish, 77 frames saved to /content/drive/MyDrive/Colab_Notebooks/GAIDI/Deepfake/data/real\n",
      "Video FPS: 25.0, capturing a frame every 8 frames\n",
      "Finish, 43 frames saved to /content/drive/MyDrive/Colab_Notebooks/GAIDI/Deepfake/data/real\n",
      "Video FPS: 25.0, capturing a frame every 8 frames\n",
      "Finish, 47 frames saved to /content/drive/MyDrive/Colab_Notebooks/GAIDI/Deepfake/data/real\n",
      "Video FPS: 30.0, capturing a frame every 10 frames\n",
      "Finish, 39 frames saved to /content/drive/MyDrive/Colab_Notebooks/GAIDI/Deepfake/data/real\n",
      "Video FPS: 25.0, capturing a frame every 8 frames\n",
      "Finish, 51 frames saved to /content/drive/MyDrive/Colab_Notebooks/GAIDI/Deepfake/data/real\n",
      "Video FPS: 25.0, capturing a frame every 8 frames\n",
      "Finish, 69 frames saved to /content/drive/MyDrive/Colab_Notebooks/GAIDI/Deepfake/data/real\n",
      "Video FPS: 25.0, capturing a frame every 8 frames\n",
      "Finish, 43 frames saved to /content/drive/MyDrive/Colab_Notebooks/GAIDI/Deepfake/data/real\n",
      "Video FPS: 30.0, capturing a frame every 10 frames\n",
      "Finish, 32 frames saved to /content/drive/MyDrive/Colab_Notebooks/GAIDI/Deepfake/data/real\n",
      "Video FPS: 30.0, capturing a frame every 10 frames\n",
      "Finish, 50 frames saved to /content/drive/MyDrive/Colab_Notebooks/GAIDI/Deepfake/data/real\n",
      "Video FPS: 30.0, capturing a frame every 10 frames\n",
      "Finish, 35 frames saved to /content/drive/MyDrive/Colab_Notebooks/GAIDI/Deepfake/data/real\n",
      "Video FPS: 25.0, capturing a frame every 8 frames\n",
      "Finish, 87 frames saved to /content/drive/MyDrive/Colab_Notebooks/GAIDI/Deepfake/data/real\n",
      "Video FPS: 30.0, capturing a frame every 10 frames\n",
      "Finish, 59 frames saved to /content/drive/MyDrive/Colab_Notebooks/GAIDI/Deepfake/data/real\n",
      "Video FPS: 30.0, capturing a frame every 10 frames\n",
      "Finish, 29 frames saved to /content/drive/MyDrive/Colab_Notebooks/GAIDI/Deepfake/data/real\n",
      "Video FPS: 30.0, capturing a frame every 10 frames\n",
      "Finish, 83 frames saved to /content/drive/MyDrive/Colab_Notebooks/GAIDI/Deepfake/data/real\n",
      "Video FPS: 30.0, capturing a frame every 10 frames\n",
      "Finish, 54 frames saved to /content/drive/MyDrive/Colab_Notebooks/GAIDI/Deepfake/data/real\n",
      "Video FPS: 30.0, capturing a frame every 10 frames\n",
      "Finish, 71 frames saved to /content/drive/MyDrive/Colab_Notebooks/GAIDI/Deepfake/data/real\n",
      "Video FPS: 30.0, capturing a frame every 10 frames\n",
      "Finish, 52 frames saved to /content/drive/MyDrive/Colab_Notebooks/GAIDI/Deepfake/data/real\n",
      "Video FPS: 30.0, capturing a frame every 10 frames\n",
      "Finish, 78 frames saved to /content/drive/MyDrive/Colab_Notebooks/GAIDI/Deepfake/data/real\n",
      "Video FPS: 60.0, capturing a frame every 20 frames\n",
      "Finish, 16 frames saved to /content/drive/MyDrive/Colab_Notebooks/GAIDI/Deepfake/data/real\n",
      "Video FPS: 30.0, capturing a frame every 10 frames\n",
      "Finish, 73 frames saved to /content/drive/MyDrive/Colab_Notebooks/GAIDI/Deepfake/data/real\n",
      "Video FPS: 25.0, capturing a frame every 8 frames\n",
      "Finish, 53 frames saved to /content/drive/MyDrive/Colab_Notebooks/GAIDI/Deepfake/data/real\n",
      "Video FPS: 30.0, capturing a frame every 10 frames\n",
      "Finish, 62 frames saved to /content/drive/MyDrive/Colab_Notebooks/GAIDI/Deepfake/data/real\n",
      "Video FPS: 30.0, capturing a frame every 10 frames\n",
      "Finish, 39 frames saved to /content/drive/MyDrive/Colab_Notebooks/GAIDI/Deepfake/data/real\n",
      "Video FPS: 25.0, capturing a frame every 8 frames\n",
      "Finish, 147 frames saved to /content/drive/MyDrive/Colab_Notebooks/GAIDI/Deepfake/data/real\n",
      "Video FPS: 30.0, capturing a frame every 10 frames\n",
      "Finish, 47 frames saved to /content/drive/MyDrive/Colab_Notebooks/GAIDI/Deepfake/data/real\n",
      "Video FPS: 30.0, capturing a frame every 10 frames\n",
      "Finish, 102 frames saved to /content/drive/MyDrive/Colab_Notebooks/GAIDI/Deepfake/data/real\n",
      "Video FPS: 25.0, capturing a frame every 8 frames\n",
      "Finish, 72 frames saved to /content/drive/MyDrive/Colab_Notebooks/GAIDI/Deepfake/data/real\n",
      "Video FPS: 25.0, capturing a frame every 8 frames\n",
      "Finish, 49 frames saved to /content/drive/MyDrive/Colab_Notebooks/GAIDI/Deepfake/data/real\n",
      "Video FPS: 30.0, capturing a frame every 10 frames\n",
      "Finish, 58 frames saved to /content/drive/MyDrive/Colab_Notebooks/GAIDI/Deepfake/data/real\n",
      "Video FPS: 25.0, capturing a frame every 8 frames\n",
      "Finish, 39 frames saved to /content/drive/MyDrive/Colab_Notebooks/GAIDI/Deepfake/data/real\n",
      "Video FPS: 25.0, capturing a frame every 8 frames\n",
      "Finish, 66 frames saved to /content/drive/MyDrive/Colab_Notebooks/GAIDI/Deepfake/data/real\n",
      "Video FPS: 30.0, capturing a frame every 10 frames\n",
      "Finish, 31 frames saved to /content/drive/MyDrive/Colab_Notebooks/GAIDI/Deepfake/data/real\n",
      "Video FPS: 30.0, capturing a frame every 10 frames\n",
      "Finish, 30 frames saved to /content/drive/MyDrive/Colab_Notebooks/GAIDI/Deepfake/data/real\n",
      "Video FPS: 25.0, capturing a frame every 8 frames\n",
      "Finish, 83 frames saved to /content/drive/MyDrive/Colab_Notebooks/GAIDI/Deepfake/data/real\n",
      "Video FPS: 30.0, capturing a frame every 10 frames\n",
      "Finish, 34 frames saved to /content/drive/MyDrive/Colab_Notebooks/GAIDI/Deepfake/data/real\n",
      "Video FPS: 25.0, capturing a frame every 8 frames\n",
      "Finish, 46 frames saved to /content/drive/MyDrive/Colab_Notebooks/GAIDI/Deepfake/data/real\n",
      "Video FPS: 25.0, capturing a frame every 8 frames\n",
      "Finish, 77 frames saved to /content/drive/MyDrive/Colab_Notebooks/GAIDI/Deepfake/data/real\n",
      "Video FPS: 30.0, capturing a frame every 10 frames\n",
      "Finish, 54 frames saved to /content/drive/MyDrive/Colab_Notebooks/GAIDI/Deepfake/data/real\n",
      "Video FPS: 25.0, capturing a frame every 8 frames\n",
      "Finish, 71 frames saved to /content/drive/MyDrive/Colab_Notebooks/GAIDI/Deepfake/data/real\n",
      "Video FPS: 30.0, capturing a frame every 10 frames\n",
      "Finish, 30 frames saved to /content/drive/MyDrive/Colab_Notebooks/GAIDI/Deepfake/data/real\n",
      "Video FPS: 30.0, capturing a frame every 10 frames\n",
      "Finish, 31 frames saved to /content/drive/MyDrive/Colab_Notebooks/GAIDI/Deepfake/data/real\n",
      "Video FPS: 25.0, capturing a frame every 8 frames\n",
      "Finish, 39 frames saved to /content/drive/MyDrive/Colab_Notebooks/GAIDI/Deepfake/data/real\n",
      "Video FPS: 30.0, capturing a frame every 10 frames\n",
      "Finish, 37 frames saved to /content/drive/MyDrive/Colab_Notebooks/GAIDI/Deepfake/data/real\n",
      "Video FPS: 30.0, capturing a frame every 10 frames\n",
      "Finish, 49 frames saved to /content/drive/MyDrive/Colab_Notebooks/GAIDI/Deepfake/data/real\n",
      "Video FPS: 30.0, capturing a frame every 10 frames\n",
      "Finish, 64 frames saved to /content/drive/MyDrive/Colab_Notebooks/GAIDI/Deepfake/data/real\n",
      "Video FPS: 30.0, capturing a frame every 10 frames\n",
      "Finish, 57 frames saved to /content/drive/MyDrive/Colab_Notebooks/GAIDI/Deepfake/data/real\n",
      "Video FPS: 25.0, capturing a frame every 8 frames\n",
      "Finish, 39 frames saved to /content/drive/MyDrive/Colab_Notebooks/GAIDI/Deepfake/data/real\n",
      "Video FPS: 25.0, capturing a frame every 8 frames\n",
      "Finish, 54 frames saved to /content/drive/MyDrive/Colab_Notebooks/GAIDI/Deepfake/data/real\n",
      "Video FPS: 24.0, capturing a frame every 8 frames\n",
      "Finish, 42 frames saved to /content/drive/MyDrive/Colab_Notebooks/GAIDI/Deepfake/data/real\n",
      "Video FPS: 30.0, capturing a frame every 10 frames\n",
      "Finish, 51 frames saved to /content/drive/MyDrive/Colab_Notebooks/GAIDI/Deepfake/data/real\n",
      "Video FPS: 25.0, capturing a frame every 8 frames\n",
      "Finish, 54 frames saved to /content/drive/MyDrive/Colab_Notebooks/GAIDI/Deepfake/data/real\n",
      "Video FPS: 25.0, capturing a frame every 8 frames\n",
      "Finish, 90 frames saved to /content/drive/MyDrive/Colab_Notebooks/GAIDI/Deepfake/data/real\n",
      "Video FPS: 25.0, capturing a frame every 8 frames\n",
      "Finish, 66 frames saved to /content/drive/MyDrive/Colab_Notebooks/GAIDI/Deepfake/data/real\n",
      "Video FPS: 30.0, capturing a frame every 10 frames\n",
      "Finish, 52 frames saved to /content/drive/MyDrive/Colab_Notebooks/GAIDI/Deepfake/data/real\n",
      "Video FPS: 30.0, capturing a frame every 10 frames\n",
      "Finish, 37 frames saved to /content/drive/MyDrive/Colab_Notebooks/GAIDI/Deepfake/data/real\n",
      "Video FPS: 25.0, capturing a frame every 8 frames\n",
      "Finish, 60 frames saved to /content/drive/MyDrive/Colab_Notebooks/GAIDI/Deepfake/data/real\n",
      "Video FPS: 30.0, capturing a frame every 10 frames\n",
      "Finish, 32 frames saved to /content/drive/MyDrive/Colab_Notebooks/GAIDI/Deepfake/data/real\n",
      "Video FPS: 25.0, capturing a frame every 8 frames\n",
      "Finish, 55 frames saved to /content/drive/MyDrive/Colab_Notebooks/GAIDI/Deepfake/data/real\n",
      "Video FPS: 30.0, capturing a frame every 10 frames\n",
      "Finish, 75 frames saved to /content/drive/MyDrive/Colab_Notebooks/GAIDI/Deepfake/data/real\n",
      "Video FPS: 25.0, capturing a frame every 8 frames\n",
      "Finish, 48 frames saved to /content/drive/MyDrive/Colab_Notebooks/GAIDI/Deepfake/data/real\n",
      "Video FPS: 30.0, capturing a frame every 10 frames\n",
      "Finish, 44 frames saved to /content/drive/MyDrive/Colab_Notebooks/GAIDI/Deepfake/data/real\n",
      "Video FPS: 25.0, capturing a frame every 8 frames\n",
      "Finish, 66 frames saved to /content/drive/MyDrive/Colab_Notebooks/GAIDI/Deepfake/data/real\n",
      "Video FPS: 30.0, capturing a frame every 10 frames\n",
      "Finish, 30 frames saved to /content/drive/MyDrive/Colab_Notebooks/GAIDI/Deepfake/data/real\n",
      "Video FPS: 30.0, capturing a frame every 10 frames\n",
      "Finish, 48 frames saved to /content/drive/MyDrive/Colab_Notebooks/GAIDI/Deepfake/data/real\n",
      "Video FPS: 25.0, capturing a frame every 8 frames\n",
      "Finish, 58 frames saved to /content/drive/MyDrive/Colab_Notebooks/GAIDI/Deepfake/data/real\n",
      "Video FPS: 30.0, capturing a frame every 10 frames\n",
      "Finish, 35 frames saved to /content/drive/MyDrive/Colab_Notebooks/GAIDI/Deepfake/data/real\n",
      "Video FPS: 30.0, capturing a frame every 10 frames\n",
      "Finish, 65 frames saved to /content/drive/MyDrive/Colab_Notebooks/GAIDI/Deepfake/data/real\n",
      "Video FPS: 30.0, capturing a frame every 10 frames\n",
      "Finish, 34 frames saved to /content/drive/MyDrive/Colab_Notebooks/GAIDI/Deepfake/data/real\n",
      "Video FPS: 30.0, capturing a frame every 10 frames\n",
      "Finish, 56 frames saved to /content/drive/MyDrive/Colab_Notebooks/GAIDI/Deepfake/data/real\n",
      "Video FPS: 30.0, capturing a frame every 10 frames\n",
      "Finish, 50 frames saved to /content/drive/MyDrive/Colab_Notebooks/GAIDI/Deepfake/data/real\n",
      "Video FPS: 30.0, capturing a frame every 10 frames\n",
      "Finish, 77 frames saved to /content/drive/MyDrive/Colab_Notebooks/GAIDI/Deepfake/data/real\n",
      "Video FPS: 25.0, capturing a frame every 8 frames\n",
      "Finish, 68 frames saved to /content/drive/MyDrive/Colab_Notebooks/GAIDI/Deepfake/data/real\n",
      "Video FPS: 30.0, capturing a frame every 10 frames\n",
      "Finish, 33 frames saved to /content/drive/MyDrive/Colab_Notebooks/GAIDI/Deepfake/data/real\n",
      "Video FPS: 30.0, capturing a frame every 10 frames\n",
      "Finish, 147 frames saved to /content/drive/MyDrive/Colab_Notebooks/GAIDI/Deepfake/data/real\n",
      "Video FPS: 25.0, capturing a frame every 8 frames\n",
      "Finish, 42 frames saved to /content/drive/MyDrive/Colab_Notebooks/GAIDI/Deepfake/data/real\n",
      "Video FPS: 25.0, capturing a frame every 8 frames\n",
      "Finish, 71 frames saved to /content/drive/MyDrive/Colab_Notebooks/GAIDI/Deepfake/data/real\n",
      "Video FPS: 25.0, capturing a frame every 8 frames\n",
      "Finish, 58 frames saved to /content/drive/MyDrive/Colab_Notebooks/GAIDI/Deepfake/data/real\n",
      "Video FPS: 25.0, capturing a frame every 8 frames\n",
      "Finish, 141 frames saved to /content/drive/MyDrive/Colab_Notebooks/GAIDI/Deepfake/data/real\n",
      "Video FPS: 30.0, capturing a frame every 10 frames\n",
      "Finish, 57 frames saved to /content/drive/MyDrive/Colab_Notebooks/GAIDI/Deepfake/data/real\n",
      "Video FPS: 30.0, capturing a frame every 10 frames\n",
      "Finish, 97 frames saved to /content/drive/MyDrive/Colab_Notebooks/GAIDI/Deepfake/data/real\n",
      "Video FPS: 30.0, capturing a frame every 10 frames\n",
      "Finish, 77 frames saved to /content/drive/MyDrive/Colab_Notebooks/GAIDI/Deepfake/data/real\n",
      "Video FPS: 30.0, capturing a frame every 10 frames\n",
      "Finish, 34 frames saved to /content/drive/MyDrive/Colab_Notebooks/GAIDI/Deepfake/data/real\n",
      "Video FPS: 30.0, capturing a frame every 10 frames\n",
      "Finish, 32 frames saved to /content/drive/MyDrive/Colab_Notebooks/GAIDI/Deepfake/data/real\n",
      "Video FPS: 30.0, capturing a frame every 10 frames\n",
      "Finish, 32 frames saved to /content/drive/MyDrive/Colab_Notebooks/GAIDI/Deepfake/data/real\n",
      "Video FPS: 25.0, capturing a frame every 8 frames\n",
      "Finish, 43 frames saved to /content/drive/MyDrive/Colab_Notebooks/GAIDI/Deepfake/data/real\n",
      "Video FPS: 30.0, capturing a frame every 10 frames\n",
      "Finish, 150 frames saved to /content/drive/MyDrive/Colab_Notebooks/GAIDI/Deepfake/data/real\n",
      "Video FPS: 25.0, capturing a frame every 8 frames\n",
      "Finish, 74 frames saved to /content/drive/MyDrive/Colab_Notebooks/GAIDI/Deepfake/data/real\n",
      "Video FPS: 25.0, capturing a frame every 8 frames\n",
      "Finish, 42 frames saved to /content/drive/MyDrive/Colab_Notebooks/GAIDI/Deepfake/data/real\n",
      "Video FPS: 25.0, capturing a frame every 8 frames\n",
      "Finish, 68 frames saved to /content/drive/MyDrive/Colab_Notebooks/GAIDI/Deepfake/data/real\n",
      "Video FPS: 30.0, capturing a frame every 10 frames\n",
      "Finish, 30 frames saved to /content/drive/MyDrive/Colab_Notebooks/GAIDI/Deepfake/data/real\n",
      "Video FPS: 25.0, capturing a frame every 8 frames\n",
      "Finish, 47 frames saved to /content/drive/MyDrive/Colab_Notebooks/GAIDI/Deepfake/data/real\n",
      "Video FPS: 25.0, capturing a frame every 8 frames\n",
      "Finish, 154 frames saved to /content/drive/MyDrive/Colab_Notebooks/GAIDI/Deepfake/data/real\n",
      "Video FPS: 25.0, capturing a frame every 8 frames\n",
      "Finish, 76 frames saved to /content/drive/MyDrive/Colab_Notebooks/GAIDI/Deepfake/data/real\n",
      "Video FPS: 30.0, capturing a frame every 10 frames\n",
      "Finish, 50 frames saved to /content/drive/MyDrive/Colab_Notebooks/GAIDI/Deepfake/data/real\n",
      "Video FPS: 25.0, capturing a frame every 8 frames\n",
      "Finish, 60 frames saved to /content/drive/MyDrive/Colab_Notebooks/GAIDI/Deepfake/data/real\n",
      "Video FPS: 25.0, capturing a frame every 8 frames\n",
      "Finish, 70 frames saved to /content/drive/MyDrive/Colab_Notebooks/GAIDI/Deepfake/data/real\n",
      "Video FPS: 30.0, capturing a frame every 10 frames\n",
      "Finish, 44 frames saved to /content/drive/MyDrive/Colab_Notebooks/GAIDI/Deepfake/data/real\n",
      "Video FPS: 25.0, capturing a frame every 8 frames\n",
      "Finish, 62 frames saved to /content/drive/MyDrive/Colab_Notebooks/GAIDI/Deepfake/data/real\n",
      "Video FPS: 25.0, capturing a frame every 8 frames\n",
      "Finish, 62 frames saved to /content/drive/MyDrive/Colab_Notebooks/GAIDI/Deepfake/data/real\n",
      "Video FPS: 30.0, capturing a frame every 10 frames\n",
      "Finish, 53 frames saved to /content/drive/MyDrive/Colab_Notebooks/GAIDI/Deepfake/data/real\n",
      "Video FPS: 25.0, capturing a frame every 8 frames\n",
      "Finish, 51 frames saved to /content/drive/MyDrive/Colab_Notebooks/GAIDI/Deepfake/data/real\n",
      "Video FPS: 25.0, capturing a frame every 8 frames\n",
      "Finish, 57 frames saved to /content/drive/MyDrive/Colab_Notebooks/GAIDI/Deepfake/data/real\n",
      "Video FPS: 25.0, capturing a frame every 8 frames\n",
      "Finish, 61 frames saved to /content/drive/MyDrive/Colab_Notebooks/GAIDI/Deepfake/data/real\n",
      "Video FPS: 25.0, capturing a frame every 8 frames\n",
      "Finish, 90 frames saved to /content/drive/MyDrive/Colab_Notebooks/GAIDI/Deepfake/data/real\n",
      "Video FPS: 30.0, capturing a frame every 10 frames\n",
      "Finish, 40 frames saved to /content/drive/MyDrive/Colab_Notebooks/GAIDI/Deepfake/data/real\n",
      "Video FPS: 30.0, capturing a frame every 10 frames\n",
      "Finish, 57 frames saved to /content/drive/MyDrive/Colab_Notebooks/GAIDI/Deepfake/data/real\n",
      "Video FPS: 25.0, capturing a frame every 8 frames\n",
      "Finish, 60 frames saved to /content/drive/MyDrive/Colab_Notebooks/GAIDI/Deepfake/data/real\n",
      "Video FPS: 25.0, capturing a frame every 8 frames\n",
      "Finish, 69 frames saved to /content/drive/MyDrive/Colab_Notebooks/GAIDI/Deepfake/data/real\n",
      "Video FPS: 25.0, capturing a frame every 8 frames\n",
      "Finish, 67 frames saved to /content/drive/MyDrive/Colab_Notebooks/GAIDI/Deepfake/data/real\n",
      "Video FPS: 30.0, capturing a frame every 10 frames\n",
      "Finish, 81 frames saved to /content/drive/MyDrive/Colab_Notebooks/GAIDI/Deepfake/data/real\n",
      "Video FPS: 30.0, capturing a frame every 10 frames\n",
      "Finish, 37 frames saved to /content/drive/MyDrive/Colab_Notebooks/GAIDI/Deepfake/data/real\n",
      "Video FPS: 30.0, capturing a frame every 10 frames\n",
      "Finish, 53 frames saved to /content/drive/MyDrive/Colab_Notebooks/GAIDI/Deepfake/data/real\n"
     ]
    }
   ],
   "source": [
    "OG_path = '/content/drive/MyDrive/Colab_Notebooks/GAIDI/Deepfake/originals'\n",
    "output_path = '/content/drive/MyDrive/Colab_Notebooks/GAIDI/Deepfake/data/real'\n",
    "wanted_fps = 3\n",
    "\n",
    "### for deployment later \n",
    "### video_extensions = (\".mp4\", \".webm\", \".mkv\", \".avi\")\n",
    "os.makedirs(output_path, exist_ok=True)\n",
    "\n",
    "for name in os.listdir(OG_path): #iterate through the files in OG_path\n",
    "    if name.endswith('.mp4'): ### if name.lower().endswith(video_extensions):\n",
    "        OG_path_mp4 = os.path.join(OG_path, name)\n",
    "        cap = cv2.VideoCapture(OG_path_mp4)\n",
    "\n",
    "        if not cap.isOpened():\n",
    "            print(\"Error: Could not open video.\")\n",
    "            exit()\n",
    "\n",
    "        video_fps= cap.get(cv2.CAP_PROP_FPS)\n",
    "        frame_interval = int(video_fps / wanted_fps)\n",
    "\n",
    "        print(f'Video FPS: {video_fps}, capturing a frame every {frame_interval} frames')\n",
    "\n",
    "        frame_count = 0\n",
    "        saved_count = 0\n",
    "\n",
    "        while True:\n",
    "            ret, frame = cap.read()\n",
    "\n",
    "            if not ret:\n",
    "                break\n",
    "\n",
    "            if frame_count % frame_interval == 0:\n",
    "                output_filepath  = os.path.join(output_path, f'{name}_{saved_count:04d}.jpg')\n",
    "                cv2.imwrite(output_filepath, frame)\n",
    "                saved_count += 1\n",
    "            frame_count += 1\n",
    "        cap.release()\n",
    "        print(f'Finish, {saved_count} frames saved to {output_path}')\n",
    "    else:\n",
    "        print(f'Skipping {name}, not a video file')"
   ]
  },
  {
   "cell_type": "markdown",
   "metadata": {
    "id": "cGw_y5WnUCq2"
   },
   "source": [
    "## Manipulated sequences Frame Extraction"
   ]
  },
  {
   "cell_type": "markdown",
   "metadata": {
    "id": "76g1jgdGUXL2"
   },
   "source": [
    "#### DeepFakesDetection"
   ]
  },
  {
   "cell_type": "code",
   "execution_count": 7,
   "metadata": {
    "colab": {
     "base_uri": "https://localhost:8080/"
    },
    "executionInfo": {
     "elapsed": 268629,
     "status": "ok",
     "timestamp": 1752914550205,
     "user": {
      "displayName": "Romaric Berger",
      "userId": "00619562086203818771"
     },
     "user_tz": -480
    },
    "id": "MFGfl9TfUWn8",
    "outputId": "66ce9234-4459-46ad-afb4-a7ac3159adb2"
   },
   "outputs": [
    {
     "name": "stdout",
     "output_type": "stream",
     "text": [
      "Video FPS: 24.0, capturing a frame every 8 frames\n",
      "Finish, 130 frames saved to /content/drive/MyDrive/Colab_Notebooks/GAIDI/Deepfake/data/fake\n",
      "Video FPS: 24.0, capturing a frame every 8 frames\n",
      "Finish, 108 frames saved to /content/drive/MyDrive/Colab_Notebooks/GAIDI/Deepfake/data/fake\n",
      "Video FPS: 24.0, capturing a frame every 8 frames\n",
      "Finish, 99 frames saved to /content/drive/MyDrive/Colab_Notebooks/GAIDI/Deepfake/data/fake\n",
      "Video FPS: 24.0, capturing a frame every 8 frames\n",
      "Finish, 60 frames saved to /content/drive/MyDrive/Colab_Notebooks/GAIDI/Deepfake/data/fake\n",
      "Video FPS: 24.0, capturing a frame every 8 frames\n",
      "Finish, 122 frames saved to /content/drive/MyDrive/Colab_Notebooks/GAIDI/Deepfake/data/fake\n",
      "Video FPS: 24.0, capturing a frame every 8 frames\n",
      "Finish, 118 frames saved to /content/drive/MyDrive/Colab_Notebooks/GAIDI/Deepfake/data/fake\n",
      "Video FPS: 24.0, capturing a frame every 8 frames\n",
      "Finish, 64 frames saved to /content/drive/MyDrive/Colab_Notebooks/GAIDI/Deepfake/data/fake\n",
      "Video FPS: 24.0, capturing a frame every 8 frames\n",
      "Finish, 65 frames saved to /content/drive/MyDrive/Colab_Notebooks/GAIDI/Deepfake/data/fake\n",
      "Video FPS: 24.0, capturing a frame every 8 frames\n",
      "Finish, 135 frames saved to /content/drive/MyDrive/Colab_Notebooks/GAIDI/Deepfake/data/fake\n",
      "Video FPS: 24.0, capturing a frame every 8 frames\n",
      "Finish, 109 frames saved to /content/drive/MyDrive/Colab_Notebooks/GAIDI/Deepfake/data/fake\n",
      "Video FPS: 24.0, capturing a frame every 8 frames\n",
      "Finish, 156 frames saved to /content/drive/MyDrive/Colab_Notebooks/GAIDI/Deepfake/data/fake\n",
      "Video FPS: 24.0, capturing a frame every 8 frames\n",
      "Finish, 73 frames saved to /content/drive/MyDrive/Colab_Notebooks/GAIDI/Deepfake/data/fake\n",
      "Video FPS: 24.0, capturing a frame every 8 frames\n",
      "Finish, 162 frames saved to /content/drive/MyDrive/Colab_Notebooks/GAIDI/Deepfake/data/fake\n",
      "Video FPS: 24.0, capturing a frame every 8 frames\n",
      "Finish, 113 frames saved to /content/drive/MyDrive/Colab_Notebooks/GAIDI/Deepfake/data/fake\n",
      "Video FPS: 24.0, capturing a frame every 8 frames\n",
      "Finish, 153 frames saved to /content/drive/MyDrive/Colab_Notebooks/GAIDI/Deepfake/data/fake\n",
      "Video FPS: 24.0, capturing a frame every 8 frames\n",
      "Finish, 131 frames saved to /content/drive/MyDrive/Colab_Notebooks/GAIDI/Deepfake/data/fake\n",
      "Video FPS: 24.0, capturing a frame every 8 frames\n",
      "Finish, 190 frames saved to /content/drive/MyDrive/Colab_Notebooks/GAIDI/Deepfake/data/fake\n",
      "Video FPS: 24.0, capturing a frame every 8 frames\n",
      "Finish, 125 frames saved to /content/drive/MyDrive/Colab_Notebooks/GAIDI/Deepfake/data/fake\n",
      "Video FPS: 24.0, capturing a frame every 8 frames\n",
      "Finish, 83 frames saved to /content/drive/MyDrive/Colab_Notebooks/GAIDI/Deepfake/data/fake\n",
      "Video FPS: 24.0, capturing a frame every 8 frames\n",
      "Finish, 99 frames saved to /content/drive/MyDrive/Colab_Notebooks/GAIDI/Deepfake/data/fake\n"
     ]
    }
   ],
   "source": [
    "deepf_path = '/content/drive/MyDrive/Colab_Notebooks/GAIDI/Deepfake/manipulated/DeepFakeDetection'\n",
    "output_path = '/content/drive/MyDrive/Colab_Notebooks/GAIDI/Deepfake/data/fake'\n",
    "wanted_fps = 3\n",
    "\n",
    "os.makedirs(output_path, exist_ok=True)\n",
    "\n",
    "\n",
    "for name in os.listdir(deepf_path):\n",
    "    if name.endswith('.mp4'):\n",
    "        deepf_path_mp4 = os.path.join(deepf_path,name)\n",
    "        cap = cv2.VideoCapture(deepf_path_mp4)\n",
    "\n",
    "        if not cap.isOpened():\n",
    "            print('Error: cannot open videos.mp4')\n",
    "            exit()\n",
    "\n",
    "        videos_fps = cap.get(cv2.CAP_PROP_FPS)\n",
    "        frame_interval = int(videos_fps/wanted_fps)\n",
    "        print(f'Video FPS: {videos_fps}, capturing a frame every {frame_interval} frames')\n",
    "\n",
    "        frame_count = 0\n",
    "        saved_count = 0\n",
    "\n",
    "        while True:\n",
    "            ret, frame = cap.read()\n",
    "\n",
    "            if not ret:\n",
    "                break\n",
    "\n",
    "            if frame_count % frame_interval == 0:\n",
    "                output_filepath  = os.path.join(output_path,f'{name}_{saved_count:04d}.jpg')\n",
    "                cv2.imwrite(output_filepath , frame)\n",
    "                saved_count += 1\n",
    "\n",
    "            frame_count += 1\n",
    "        cap.release()\n",
    "        print(f'Finish, {saved_count} frames saved to {output_path}')\n",
    "    else:\n",
    "        print(f'Skipping {name}, not a video file')"
   ]
  },
  {
   "cell_type": "markdown",
   "metadata": {
    "id": "RpnOKNLpyqxd"
   },
   "source": [
    "#### Deepfake"
   ]
  },
  {
   "cell_type": "code",
   "execution_count": 8,
   "metadata": {
    "colab": {
     "base_uri": "https://localhost:8080/"
    },
    "executionInfo": {
     "elapsed": 178803,
     "status": "ok",
     "timestamp": 1752914729011,
     "user": {
      "displayName": "Romaric Berger",
      "userId": "00619562086203818771"
     },
     "user_tz": -480
    },
    "id": "d50Yi2_xyqbN",
    "outputId": "f755079a-7b88-4979-a7b0-72290b572dd1"
   },
   "outputs": [
    {
     "name": "stdout",
     "output_type": "stream",
     "text": [
      "Video FPS:25.0, capturing a frame every 3 frames.\n",
      "Done, saved 150 frames in /content/drive/MyDrive/Colab_Notebooks/GAIDI/Deepfake/data/fake\n",
      "Video FPS:24.0, capturing a frame every 8 frames.\n",
      "Done, saved 41 frames in /content/drive/MyDrive/Colab_Notebooks/GAIDI/Deepfake/data/fake\n",
      "Video FPS:25.0, capturing a frame every 3 frames.\n",
      "Done, saved 336 frames in /content/drive/MyDrive/Colab_Notebooks/GAIDI/Deepfake/data/fake\n",
      "Video FPS:25.0, capturing a frame every 8 frames.\n",
      "Done, saved 51 frames in /content/drive/MyDrive/Colab_Notebooks/GAIDI/Deepfake/data/fake\n",
      "Video FPS:25.0, capturing a frame every 3 frames.\n",
      "Done, saved 104 frames in /content/drive/MyDrive/Colab_Notebooks/GAIDI/Deepfake/data/fake\n",
      "Video FPS:25.0, capturing a frame every 8 frames.\n",
      "Done, saved 61 frames in /content/drive/MyDrive/Colab_Notebooks/GAIDI/Deepfake/data/fake\n",
      "Video FPS:25.0, capturing a frame every 3 frames.\n",
      "Done, saved 104 frames in /content/drive/MyDrive/Colab_Notebooks/GAIDI/Deepfake/data/fake\n",
      "Video FPS:30.0, capturing a frame every 10 frames.\n",
      "Done, saved 35 frames in /content/drive/MyDrive/Colab_Notebooks/GAIDI/Deepfake/data/fake\n",
      "Video FPS:25.0, capturing a frame every 2 frames.\n",
      "Done, saved 481 frames in /content/drive/MyDrive/Colab_Notebooks/GAIDI/Deepfake/data/fake\n",
      "Video FPS:25.0, capturing a frame every 12 frames.\n",
      "Done, saved 43 frames in /content/drive/MyDrive/Colab_Notebooks/GAIDI/Deepfake/data/fake\n",
      "Video FPS:25.0, capturing a frame every 2 frames.\n",
      "Done, saved 171 frames in /content/drive/MyDrive/Colab_Notebooks/GAIDI/Deepfake/data/fake\n",
      "Video FPS:25.0, capturing a frame every 12 frames.\n",
      "Done, saved 63 frames in /content/drive/MyDrive/Colab_Notebooks/GAIDI/Deepfake/data/fake\n",
      "Video FPS:25.0, capturing a frame every 2 frames.\n",
      "Done, saved 362 frames in /content/drive/MyDrive/Colab_Notebooks/GAIDI/Deepfake/data/fake\n",
      "Video FPS:25.0, capturing a frame every 12 frames.\n",
      "Done, saved 59 frames in /content/drive/MyDrive/Colab_Notebooks/GAIDI/Deepfake/data/fake\n",
      "Video FPS:25.0, capturing a frame every 2 frames.\n",
      "Done, saved 147 frames in /content/drive/MyDrive/Colab_Notebooks/GAIDI/Deepfake/data/fake\n",
      "Video FPS:25.0, capturing a frame every 12 frames.\n",
      "Done, saved 27 frames in /content/drive/MyDrive/Colab_Notebooks/GAIDI/Deepfake/data/fake\n",
      "Video FPS:25.0, capturing a frame every 2 frames.\n",
      "Done, saved 233 frames in /content/drive/MyDrive/Colab_Notebooks/GAIDI/Deepfake/data/fake\n",
      "Video FPS:25.0, capturing a frame every 12 frames.\n",
      "Done, saved 80 frames in /content/drive/MyDrive/Colab_Notebooks/GAIDI/Deepfake/data/fake\n",
      "Video FPS:30.0, capturing a frame every 2 frames.\n",
      "Done, saved 209 frames in /content/drive/MyDrive/Colab_Notebooks/GAIDI/Deepfake/data/fake\n",
      "Video FPS:25.0, capturing a frame every 12 frames.\n",
      "Done, saved 33 frames in /content/drive/MyDrive/Colab_Notebooks/GAIDI/Deepfake/data/fake\n"
     ]
    }
   ],
   "source": [
    "df_path = '/content/drive/MyDrive/Colab_Notebooks/GAIDI/Deepfake/manipulated/Deepfakes'\n",
    "output_path = '/content/drive/MyDrive/Colab_Notebooks/GAIDI/Deepfake/data/fake'\n",
    "desired_fps = 3\n",
    "\n",
    "os.makedirs(output_path, exist_ok=True)\n",
    "\n",
    "for name in os.listdir(df_path):\n",
    "    if name.endswith('.mp4'):\n",
    "        fd_path_mp4 = os.path.join(df_path, name)\n",
    "\n",
    "        cap = cv2.VideoCapture(fd_path_mp4)\n",
    "\n",
    "        if not cap.isOpened():\n",
    "            print('Error')\n",
    "            exit()\n",
    "\n",
    "        video_fps = cap.get(cv2.CAP_PROP_FPS)\n",
    "        frame_interval = int(video_fps/frame_interval)\n",
    "        print(f'Video FPS:{video_fps}, capturing a frame every {frame_interval} frames.')\n",
    "\n",
    "        frame_count = 0\n",
    "        saved_count = 0\n",
    "\n",
    "        while True:\n",
    "            ret, frame = cap.read()\n",
    "\n",
    "            if not ret:\n",
    "                break\n",
    "\n",
    "            if frame_count % frame_interval == 0:\n",
    "                output_filepath  = os.path.join(output_path,f'{name}_{saved_count:04d}.jpg')\n",
    "                cv2.imwrite(output_filepath , frame)\n",
    "                saved_count += 1\n",
    "            frame_count += 1\n",
    "\n",
    "        cap.release()\n",
    "\n",
    "        print(f'Done, saved {saved_count} frames in {output_path}')\n",
    "    else:\n",
    "        print(f'Skipping {name}, not a video file')"
   ]
  },
  {
   "cell_type": "markdown",
   "metadata": {
    "id": "jatj33wgUe9O"
   },
   "source": [
    "#### Face2Face"
   ]
  },
  {
   "cell_type": "code",
   "execution_count": 9,
   "metadata": {
    "colab": {
     "base_uri": "https://localhost:8080/"
    },
    "executionInfo": {
     "elapsed": 192513,
     "status": "ok",
     "timestamp": 1752914921534,
     "user": {
      "displayName": "Romaric Berger",
      "userId": "00619562086203818771"
     },
     "user_tz": -480
    },
    "id": "V95gHbXFUhih",
    "outputId": "6c3c75aa-2bcc-49e7-bf82-a08b09a02ba5"
   },
   "outputs": [
    {
     "name": "stdout",
     "output_type": "stream",
     "text": [
      "Videos FPS:24.0, capturing a frame every 8 frames\n",
      "Finish, 126 frames saved to /content/drive/MyDrive/Colab_Notebooks/GAIDI/Deepfake/data/fake\n",
      "Videos FPS:25.0, capturing a frame every 8 frames\n",
      "Finish, 61 frames saved to /content/drive/MyDrive/Colab_Notebooks/GAIDI/Deepfake/data/fake\n",
      "Videos FPS:30.0, capturing a frame every 10 frames\n",
      "Finish, 143 frames saved to /content/drive/MyDrive/Colab_Notebooks/GAIDI/Deepfake/data/fake\n",
      "Videos FPS:30.0, capturing a frame every 10 frames\n",
      "Finish, 31 frames saved to /content/drive/MyDrive/Colab_Notebooks/GAIDI/Deepfake/data/fake\n",
      "Videos FPS:30.0, capturing a frame every 10 frames\n",
      "Finish, 30 frames saved to /content/drive/MyDrive/Colab_Notebooks/GAIDI/Deepfake/data/fake\n",
      "Videos FPS:25.0, capturing a frame every 8 frames\n",
      "Finish, 111 frames saved to /content/drive/MyDrive/Colab_Notebooks/GAIDI/Deepfake/data/fake\n",
      "Videos FPS:25.0, capturing a frame every 8 frames\n",
      "Finish, 151 frames saved to /content/drive/MyDrive/Colab_Notebooks/GAIDI/Deepfake/data/fake\n",
      "Videos FPS:25.0, capturing a frame every 8 frames\n",
      "Finish, 87 frames saved to /content/drive/MyDrive/Colab_Notebooks/GAIDI/Deepfake/data/fake\n",
      "Videos FPS:25.0, capturing a frame every 8 frames\n",
      "Finish, 68 frames saved to /content/drive/MyDrive/Colab_Notebooks/GAIDI/Deepfake/data/fake\n",
      "Videos FPS:30.0, capturing a frame every 10 frames\n",
      "Finish, 32 frames saved to /content/drive/MyDrive/Colab_Notebooks/GAIDI/Deepfake/data/fake\n",
      "Videos FPS:25.0, capturing a frame every 8 frames\n",
      "Finish, 46 frames saved to /content/drive/MyDrive/Colab_Notebooks/GAIDI/Deepfake/data/fake\n",
      "Videos FPS:25.0, capturing a frame every 8 frames\n",
      "Finish, 104 frames saved to /content/drive/MyDrive/Colab_Notebooks/GAIDI/Deepfake/data/fake\n",
      "Videos FPS:24.0, capturing a frame every 8 frames\n",
      "Finish, 52 frames saved to /content/drive/MyDrive/Colab_Notebooks/GAIDI/Deepfake/data/fake\n",
      "Videos FPS:30.0, capturing a frame every 10 frames\n",
      "Finish, 54 frames saved to /content/drive/MyDrive/Colab_Notebooks/GAIDI/Deepfake/data/fake\n",
      "Videos FPS:25.0, capturing a frame every 8 frames\n",
      "Finish, 40 frames saved to /content/drive/MyDrive/Colab_Notebooks/GAIDI/Deepfake/data/fake\n",
      "Videos FPS:30.0, capturing a frame every 10 frames\n",
      "Finish, 34 frames saved to /content/drive/MyDrive/Colab_Notebooks/GAIDI/Deepfake/data/fake\n",
      "Videos FPS:30.0, capturing a frame every 10 frames\n",
      "Finish, 37 frames saved to /content/drive/MyDrive/Colab_Notebooks/GAIDI/Deepfake/data/fake\n",
      "Videos FPS:25.0, capturing a frame every 8 frames\n",
      "Finish, 56 frames saved to /content/drive/MyDrive/Colab_Notebooks/GAIDI/Deepfake/data/fake\n",
      "Videos FPS:30.0, capturing a frame every 10 frames\n",
      "Finish, 51 frames saved to /content/drive/MyDrive/Colab_Notebooks/GAIDI/Deepfake/data/fake\n",
      "Videos FPS:30.0, capturing a frame every 10 frames\n",
      "Finish, 32 frames saved to /content/drive/MyDrive/Colab_Notebooks/GAIDI/Deepfake/data/fake\n"
     ]
    }
   ],
   "source": [
    "f2f_path = '/content/drive/MyDrive/Colab_Notebooks/GAIDI/Deepfake/manipulated/Face2Face'\n",
    "output_path = '/content/drive/MyDrive/Colab_Notebooks/GAIDI/Deepfake/data/fake'\n",
    "desired_fps = 3\n",
    "\n",
    "os.makedirs(output_path, exist_ok=True)\n",
    "\n",
    "for name in os.listdir(f2f_path):\n",
    "    if name.endswith('.mp4'):\n",
    "        f2f_path_mp4 = os.path.join(f2f_path, name)\n",
    "\n",
    "        cap=cv2.VideoCapture(f2f_path_mp4)\n",
    "\n",
    "        if not cap.isOpened():\n",
    "            print('Error: Videos cannot be opened')\n",
    "            exit()\n",
    "\n",
    "        video_fps = cap.get(cv2.CAP_PROP_FPS)\n",
    "\n",
    "        frame_interval = int(video_fps/desired_fps)\n",
    "        print(f'Videos FPS:{video_fps}, capturing a frame every {frame_interval} frames')\n",
    "\n",
    "        frame_count =0\n",
    "        saved_count= 0\n",
    "\n",
    "        while True:\n",
    "            ret, frame = cap.read()\n",
    "\n",
    "            if not ret:\n",
    "                break\n",
    "\n",
    "            if frame_count % frame_interval == 0:\n",
    "                output_filepath  = os.path.join(output_path, f'{name}_{saved_count:04d}.jpg')\n",
    "                cv2.imwrite(output_filepath , frame)\n",
    "                saved_count += 1\n",
    "            frame_count += 1\n",
    "\n",
    "        cap.release()\n",
    "        print(f'Finish, {saved_count} frames saved to {output_path}')\n",
    "    else:\n",
    "        print(f'Skipping {name}, not a video file')"
   ]
  },
  {
   "cell_type": "markdown",
   "metadata": {
    "id": "5NA-h00NUiXW"
   },
   "source": [
    "#### FaceShifter"
   ]
  },
  {
   "cell_type": "code",
   "execution_count": 10,
   "metadata": {
    "colab": {
     "base_uri": "https://localhost:8080/"
    },
    "executionInfo": {
     "elapsed": 151396,
     "status": "ok",
     "timestamp": 1752915072915,
     "user": {
      "displayName": "Romaric Berger",
      "userId": "00619562086203818771"
     },
     "user_tz": -480
    },
    "id": "Gq1yZ2MuUk2q",
    "outputId": "a58858be-0d67-4198-a2aa-35704fa1aa3d"
   },
   "outputs": [
    {
     "name": "stdout",
     "output_type": "stream",
     "text": [
      "Video FPS:25.0, capturing a frame every 8 frames.\n",
      "Finish, 53 frames saved to /content/drive/MyDrive/Colab_Notebooks/GAIDI/Deepfake/data/fake\n",
      "Video FPS:25.0, capturing a frame every 8 frames.\n",
      "Finish, 42 frames saved to /content/drive/MyDrive/Colab_Notebooks/GAIDI/Deepfake/data/fake\n",
      "Video FPS:25.0, capturing a frame every 8 frames.\n",
      "Finish, 87 frames saved to /content/drive/MyDrive/Colab_Notebooks/GAIDI/Deepfake/data/fake\n",
      "Video FPS:30.0, capturing a frame every 10 frames.\n",
      "Finish, 30 frames saved to /content/drive/MyDrive/Colab_Notebooks/GAIDI/Deepfake/data/fake\n",
      "Video FPS:30.0, capturing a frame every 10 frames.\n",
      "Finish, 31 frames saved to /content/drive/MyDrive/Colab_Notebooks/GAIDI/Deepfake/data/fake\n",
      "Video FPS:25.0, capturing a frame every 8 frames.\n",
      "Finish, 70 frames saved to /content/drive/MyDrive/Colab_Notebooks/GAIDI/Deepfake/data/fake\n",
      "Video FPS:30.0, capturing a frame every 10 frames.\n",
      "Finish, 70 frames saved to /content/drive/MyDrive/Colab_Notebooks/GAIDI/Deepfake/data/fake\n",
      "Video FPS:30.0, capturing a frame every 10 frames.\n",
      "Finish, 54 frames saved to /content/drive/MyDrive/Colab_Notebooks/GAIDI/Deepfake/data/fake\n",
      "Video FPS:25.0, capturing a frame every 8 frames.\n",
      "Finish, 121 frames saved to /content/drive/MyDrive/Colab_Notebooks/GAIDI/Deepfake/data/fake\n",
      "Video FPS:30.0, capturing a frame every 10 frames.\n",
      "Finish, 46 frames saved to /content/drive/MyDrive/Colab_Notebooks/GAIDI/Deepfake/data/fake\n",
      "Video FPS:25.0, capturing a frame every 8 frames.\n",
      "Finish, 73 frames saved to /content/drive/MyDrive/Colab_Notebooks/GAIDI/Deepfake/data/fake\n",
      "Video FPS:25.0, capturing a frame every 8 frames.\n",
      "Finish, 43 frames saved to /content/drive/MyDrive/Colab_Notebooks/GAIDI/Deepfake/data/fake\n",
      "Video FPS:25.0, capturing a frame every 8 frames.\n",
      "Finish, 45 frames saved to /content/drive/MyDrive/Colab_Notebooks/GAIDI/Deepfake/data/fake\n",
      "Video FPS:30.0, capturing a frame every 10 frames.\n",
      "Finish, 69 frames saved to /content/drive/MyDrive/Colab_Notebooks/GAIDI/Deepfake/data/fake\n",
      "Video FPS:30.0, capturing a frame every 10 frames.\n",
      "Finish, 38 frames saved to /content/drive/MyDrive/Colab_Notebooks/GAIDI/Deepfake/data/fake\n",
      "Video FPS:25.0, capturing a frame every 8 frames.\n",
      "Finish, 64 frames saved to /content/drive/MyDrive/Colab_Notebooks/GAIDI/Deepfake/data/fake\n",
      "Video FPS:30.0, capturing a frame every 10 frames.\n",
      "Finish, 62 frames saved to /content/drive/MyDrive/Colab_Notebooks/GAIDI/Deepfake/data/fake\n",
      "Video FPS:25.0, capturing a frame every 8 frames.\n",
      "Finish, 107 frames saved to /content/drive/MyDrive/Colab_Notebooks/GAIDI/Deepfake/data/fake\n",
      "Video FPS:25.0, capturing a frame every 8 frames.\n",
      "Finish, 75 frames saved to /content/drive/MyDrive/Colab_Notebooks/GAIDI/Deepfake/data/fake\n",
      "Video FPS:25.0, capturing a frame every 8 frames.\n",
      "Finish, 75 frames saved to /content/drive/MyDrive/Colab_Notebooks/GAIDI/Deepfake/data/fake\n"
     ]
    }
   ],
   "source": [
    "fshift_path = '/content/drive/MyDrive/Colab_Notebooks/GAIDI/Deepfake/manipulated/FaceShifter'\n",
    "output_path = '/content/drive/MyDrive/Colab_Notebooks/GAIDI/Deepfake/data/fake'\n",
    "desired_fps = 3\n",
    "\n",
    "os.makedirs(output_path,exist_ok=True)\n",
    "\n",
    "for name in os.listdir(fshift_path):\n",
    "    if name.endswith('.mp4'):\n",
    "        fshift_path_mp4 = os.path.join(fshift_path,name)\n",
    "\n",
    "        cap = cv2.VideoCapture(fshift_path_mp4)\n",
    "\n",
    "        if not cap.isOpened():\n",
    "            print(\"Error: Cannot read the video\")\n",
    "            exit()\n",
    "\n",
    "        video_fps = cap.get(cv2.CAP_PROP_FPS)\n",
    "        frame_interval = int(video_fps/desired_fps)\n",
    "        print(f'Video FPS:{video_fps}, capturing a frame every {frame_interval} frames.')\n",
    "\n",
    "        frame_count = 0\n",
    "        saved_count = 0\n",
    "\n",
    "        while True:\n",
    "            ret, frame = cap.read()\n",
    "            if not ret:\n",
    "                break\n",
    "\n",
    "            if frame_count % frame_interval == 0:\n",
    "                output_filepath  = os.path.join(output_path,f'{name}_{saved_count:04d}.jpg')\n",
    "                cv2.imwrite(output_filepath, frame)\n",
    "                saved_count += 1\n",
    "            frame_count += 1\n",
    "\n",
    "        cap.release()\n",
    "\n",
    "        print(f'Finish, {saved_count} frames saved to {output_path}')\n",
    "    else:\n",
    "        print(f'Skipping {name}, not a video file')"
   ]
  },
  {
   "cell_type": "markdown",
   "metadata": {
    "id": "4PBMq46gUlgc"
   },
   "source": [
    "#### FaceSwap"
   ]
  },
  {
   "cell_type": "code",
   "execution_count": 11,
   "metadata": {
    "colab": {
     "base_uri": "https://localhost:8080/"
    },
    "executionInfo": {
     "elapsed": 86301,
     "status": "ok",
     "timestamp": 1752915159220,
     "user": {
      "displayName": "Romaric Berger",
      "userId": "00619562086203818771"
     },
     "user_tz": -480
    },
    "id": "HgVU-_h_Un48",
    "outputId": "ffc988a0-15ec-4627-8388-732485598509"
   },
   "outputs": [
    {
     "name": "stdout",
     "output_type": "stream",
     "text": [
      "Videos FPS: 30.0, capturing a frame every 10 frames.\n",
      "Finish, 37 frames saved to /content/drive/MyDrive/Colab_Notebooks/GAIDI/Deepfake/data/fake\n",
      "Videos FPS: 25.0, capturing a frame every 8 frames.\n",
      "Finish, 49 frames saved to /content/drive/MyDrive/Colab_Notebooks/GAIDI/Deepfake/data/fake\n",
      "Videos FPS: 30.0, capturing a frame every 10 frames.\n",
      "Finish, 34 frames saved to /content/drive/MyDrive/Colab_Notebooks/GAIDI/Deepfake/data/fake\n",
      "Videos FPS: 30.0, capturing a frame every 10 frames.\n",
      "Finish, 36 frames saved to /content/drive/MyDrive/Colab_Notebooks/GAIDI/Deepfake/data/fake\n",
      "Videos FPS: 24.0, capturing a frame every 8 frames.\n",
      "Finish, 41 frames saved to /content/drive/MyDrive/Colab_Notebooks/GAIDI/Deepfake/data/fake\n",
      "Videos FPS: 25.0, capturing a frame every 8 frames.\n",
      "Finish, 52 frames saved to /content/drive/MyDrive/Colab_Notebooks/GAIDI/Deepfake/data/fake\n",
      "Videos FPS: 30.0, capturing a frame every 10 frames.\n",
      "Finish, 39 frames saved to /content/drive/MyDrive/Colab_Notebooks/GAIDI/Deepfake/data/fake\n",
      "Videos FPS: 30.0, capturing a frame every 10 frames.\n",
      "Finish, 46 frames saved to /content/drive/MyDrive/Colab_Notebooks/GAIDI/Deepfake/data/fake\n",
      "Videos FPS: 30.0, capturing a frame every 10 frames.\n",
      "Finish, 38 frames saved to /content/drive/MyDrive/Colab_Notebooks/GAIDI/Deepfake/data/fake\n",
      "Videos FPS: 25.0, capturing a frame every 8 frames.\n",
      "Finish, 48 frames saved to /content/drive/MyDrive/Colab_Notebooks/GAIDI/Deepfake/data/fake\n",
      "Videos FPS: 25.0, capturing a frame every 8 frames.\n",
      "Finish, 50 frames saved to /content/drive/MyDrive/Colab_Notebooks/GAIDI/Deepfake/data/fake\n",
      "Videos FPS: 25.0, capturing a frame every 8 frames.\n",
      "Finish, 43 frames saved to /content/drive/MyDrive/Colab_Notebooks/GAIDI/Deepfake/data/fake\n",
      "Videos FPS: 25.0, capturing a frame every 8 frames.\n",
      "Finish, 51 frames saved to /content/drive/MyDrive/Colab_Notebooks/GAIDI/Deepfake/data/fake\n",
      "Videos FPS: 25.0, capturing a frame every 8 frames.\n",
      "Finish, 43 frames saved to /content/drive/MyDrive/Colab_Notebooks/GAIDI/Deepfake/data/fake\n",
      "Videos FPS: 25.0, capturing a frame every 8 frames.\n",
      "Finish, 67 frames saved to /content/drive/MyDrive/Colab_Notebooks/GAIDI/Deepfake/data/fake\n",
      "Videos FPS: 30.0, capturing a frame every 10 frames.\n",
      "Finish, 43 frames saved to /content/drive/MyDrive/Colab_Notebooks/GAIDI/Deepfake/data/fake\n",
      "Videos FPS: 30.0, capturing a frame every 10 frames.\n",
      "Finish, 30 frames saved to /content/drive/MyDrive/Colab_Notebooks/GAIDI/Deepfake/data/fake\n",
      "Videos FPS: 25.0, capturing a frame every 8 frames.\n",
      "Finish, 59 frames saved to /content/drive/MyDrive/Colab_Notebooks/GAIDI/Deepfake/data/fake\n",
      "Videos FPS: 30.0, capturing a frame every 10 frames.\n",
      "Finish, 46 frames saved to /content/drive/MyDrive/Colab_Notebooks/GAIDI/Deepfake/data/fake\n",
      "Videos FPS: 30.0, capturing a frame every 10 frames.\n",
      "Finish, 38 frames saved to /content/drive/MyDrive/Colab_Notebooks/GAIDI/Deepfake/data/fake\n"
     ]
    }
   ],
   "source": [
    "fswap_path = '/content/drive/MyDrive/Colab_Notebooks/GAIDI/Deepfake/manipulated/FaceSwap'\n",
    "output_path = '/content/drive/MyDrive/Colab_Notebooks/GAIDI/Deepfake/data/fake'\n",
    "desired_fps = 3\n",
    "\n",
    "os.makedirs(output_path, exist_ok=True)\n",
    "\n",
    "for name in os.listdir(fswap_path):\n",
    "    if name.endswith('.mp4'):\n",
    "        fswap_path_mp4 = os.path.join(fswap_path, name)\n",
    "\n",
    "        cap = cv2.VideoCapture(fswap_path_mp4)\n",
    "\n",
    "        if not cap.isOpened():\n",
    "            print('Error: Connot open the video')\n",
    "            exit()\n",
    "\n",
    "        video_fps = cap.get(cv2.CAP_PROP_FPS)\n",
    "        frame_interval = int(video_fps / desired_fps)\n",
    "        print(f'Videos FPS: {video_fps}, capturing a frame every {frame_interval} frames.')\n",
    "\n",
    "        frame_count = 0\n",
    "        saved_count = 0\n",
    "\n",
    "        while True:\n",
    "            ret, frame = cap.read()\n",
    "\n",
    "            if not ret:\n",
    "                break\n",
    "\n",
    "            if frame_count % frame_interval == 0:\n",
    "                output_filepath  = os.path.join(output_path,f'{name}_{saved_count:04d}.jpg')\n",
    "                cv2.imwrite(output_filepath, frame)\n",
    "                saved_count += 1\n",
    "\n",
    "            frame_count += 1\n",
    "        cap.release()\n",
    "\n",
    "        print(f'Finish, {saved_count} frames saved to {output_path}')\n",
    "    else:\n",
    "        print(f'Skipping {name}, not a video file')"
   ]
  },
  {
   "cell_type": "markdown",
   "metadata": {
    "id": "R3Na6aNxUok4"
   },
   "source": [
    "#### NeuralTexture"
   ]
  },
  {
   "cell_type": "code",
   "execution_count": 12,
   "metadata": {
    "colab": {
     "base_uri": "https://localhost:8080/"
    },
    "executionInfo": {
     "elapsed": 119321,
     "status": "ok",
     "timestamp": 1752915278564,
     "user": {
      "displayName": "Romaric Berger",
      "userId": "00619562086203818771"
     },
     "user_tz": -480
    },
    "id": "IadmaX7XWHCH",
    "outputId": "0d1701c0-7cde-4832-f6d9-92a838e98464"
   },
   "outputs": [
    {
     "name": "stdout",
     "output_type": "stream",
     "text": [
      "Video FPS: 30.0, capturing 1 frame every 10 frames.\n",
      "Done, 52 saved in /content/drive/MyDrive/Colab_Notebooks/GAIDI/Deepfake/data/fake\n",
      "Video FPS: 30.0, capturing 1 frame every 10 frames.\n",
      "Done, 34 saved in /content/drive/MyDrive/Colab_Notebooks/GAIDI/Deepfake/data/fake\n",
      "Video FPS: 30.0, capturing 1 frame every 10 frames.\n",
      "Done, 35 saved in /content/drive/MyDrive/Colab_Notebooks/GAIDI/Deepfake/data/fake\n",
      "Video FPS: 30.0, capturing 1 frame every 10 frames.\n",
      "Done, 43 saved in /content/drive/MyDrive/Colab_Notebooks/GAIDI/Deepfake/data/fake\n",
      "Video FPS: 30.0, capturing 1 frame every 10 frames.\n",
      "Done, 52 saved in /content/drive/MyDrive/Colab_Notebooks/GAIDI/Deepfake/data/fake\n",
      "Video FPS: 30.0, capturing 1 frame every 10 frames.\n",
      "Done, 61 saved in /content/drive/MyDrive/Colab_Notebooks/GAIDI/Deepfake/data/fake\n",
      "Video FPS: 30.0, capturing 1 frame every 10 frames.\n",
      "Done, 46 saved in /content/drive/MyDrive/Colab_Notebooks/GAIDI/Deepfake/data/fake\n",
      "Video FPS: 25.0, capturing 1 frame every 8 frames.\n",
      "Done, 66 saved in /content/drive/MyDrive/Colab_Notebooks/GAIDI/Deepfake/data/fake\n",
      "Video FPS: 25.0, capturing 1 frame every 8 frames.\n",
      "Done, 59 saved in /content/drive/MyDrive/Colab_Notebooks/GAIDI/Deepfake/data/fake\n",
      "Video FPS: 30.0, capturing 1 frame every 10 frames.\n",
      "Done, 36 saved in /content/drive/MyDrive/Colab_Notebooks/GAIDI/Deepfake/data/fake\n",
      "Video FPS: 30.0, capturing 1 frame every 10 frames.\n",
      "Done, 53 saved in /content/drive/MyDrive/Colab_Notebooks/GAIDI/Deepfake/data/fake\n",
      "Video FPS: 25.0, capturing 1 frame every 8 frames.\n",
      "Done, 72 saved in /content/drive/MyDrive/Colab_Notebooks/GAIDI/Deepfake/data/fake\n",
      "Video FPS: 25.0, capturing 1 frame every 8 frames.\n",
      "Done, 60 saved in /content/drive/MyDrive/Colab_Notebooks/GAIDI/Deepfake/data/fake\n",
      "Video FPS: 25.0, capturing 1 frame every 8 frames.\n",
      "Done, 53 saved in /content/drive/MyDrive/Colab_Notebooks/GAIDI/Deepfake/data/fake\n",
      "Video FPS: 25.0, capturing 1 frame every 8 frames.\n",
      "Done, 56 saved in /content/drive/MyDrive/Colab_Notebooks/GAIDI/Deepfake/data/fake\n",
      "Video FPS: 25.0, capturing 1 frame every 8 frames.\n",
      "Done, 62 saved in /content/drive/MyDrive/Colab_Notebooks/GAIDI/Deepfake/data/fake\n",
      "Video FPS: 25.0, capturing 1 frame every 8 frames.\n",
      "Done, 40 saved in /content/drive/MyDrive/Colab_Notebooks/GAIDI/Deepfake/data/fake\n",
      "Video FPS: 25.0, capturing 1 frame every 8 frames.\n",
      "Done, 130 saved in /content/drive/MyDrive/Colab_Notebooks/GAIDI/Deepfake/data/fake\n",
      "Video FPS: 25.0, capturing 1 frame every 8 frames.\n",
      "Done, 42 saved in /content/drive/MyDrive/Colab_Notebooks/GAIDI/Deepfake/data/fake\n",
      "Video FPS: 25.0, capturing 1 frame every 8 frames.\n",
      "Done, 40 saved in /content/drive/MyDrive/Colab_Notebooks/GAIDI/Deepfake/data/fake\n"
     ]
    }
   ],
   "source": [
    "NT_path = '/content/drive/MyDrive/Colab_Notebooks/GAIDI/Deepfake/manipulated/NeuralTextures'\n",
    "output_path = '/content/drive/MyDrive/Colab_Notebooks/GAIDI/Deepfake/data/fake'\n",
    "desired_fps = 3\n",
    "\n",
    "os.makedirs(output_path, exist_ok=True)\n",
    "\n",
    "for name in os.listdir(NT_path):\n",
    "    if name.endswith('mp4'):\n",
    "        NT_path_mp4 = os.path.join(NT_path,name)\n",
    "\n",
    "        cap = cv2.VideoCapture(NT_path_mp4)\n",
    "\n",
    "        if not cap.isOpened():\n",
    "            print(\"Error: cannot read video\")\n",
    "            exit()\n",
    "\n",
    "        video_fps = cap.get(cv2.CAP_PROP_FPS)\n",
    "        frame_interval = int(video_fps / desired_fps)\n",
    "\n",
    "        print(f'Video FPS: {video_fps}, capturing 1 frame every {frame_interval} frames.')\n",
    "\n",
    "        frame_count = 0\n",
    "        saved_count = 0\n",
    "\n",
    "        while True:\n",
    "            ret, frame = cap.read()\n",
    "\n",
    "            if not ret:\n",
    "                break\n",
    "\n",
    "            if frame_count % frame_interval ==0:\n",
    "                output_filepath = os.path.join(output_path,f'{name}_{saved_count:04d}.jpg')\n",
    "                cv2.imwrite(output_filepath, frame)\n",
    "                saved_count += 1\n",
    "\n",
    "            frame_count += 1\n",
    "\n",
    "        cap.release()\n",
    "\n",
    "        print(f'Done, {saved_count} saved in {output_path}')\n",
    "    else:\n",
    "        print('Skipped, cannot read the video')"
   ]
  },
  {
   "cell_type": "code",
   "execution_count": 13,
   "metadata": {
    "executionInfo": {
     "elapsed": 540,
     "status": "ok",
     "timestamp": 1752915279098,
     "user": {
      "displayName": "Romaric Berger",
      "userId": "00619562086203818771"
     },
     "user_tz": -480
    },
    "id": "T9PLsXrqwE_9"
   },
   "outputs": [],
   "source": [
    "# Play an audio beep. Any audio URL will do.\n",
    "from google.colab import output\n",
    "output.eval_js('new Audio(\"https://upload.wikimedia.org/wikipedia/commons/5/57/BP_Just_D.ogg\").play()')"
   ]
  }
 ],
 "metadata": {
  "colab": {
   "authorship_tag": "ABX9TyNtYPGdhy1TyDRXqVv5uAt8",
   "provenance": []
  },
  "kernelspec": {
   "display_name": "Python 3",
   "name": "python3"
  },
  "language_info": {
   "name": "python"
  }
 },
 "nbformat": 4,
 "nbformat_minor": 0
}
